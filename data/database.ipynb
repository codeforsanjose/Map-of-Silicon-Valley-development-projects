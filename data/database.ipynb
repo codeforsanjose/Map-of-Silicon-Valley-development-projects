{
 "cells": [
  {
   "cell_type": "code",
   "execution_count": 12,
   "metadata": {},
   "outputs": [],
   "source": [
    "import pandas as pd\n",
    "\n",
    "# Python SQL toolkit and Object Relational Mapper\n",
    "import sqlalchemy\n",
    "from sqlalchemy import create_engine, MetaData\n",
    "from sqlalchemy.ext.declarative import declarative_base\n",
    "from sqlalchemy.ext.automap import automap_base\n",
    "from sqlalchemy import Column, Integer, String, Numeric, Text, Float\n",
    "\n",
    "# Read csv file\n",
    "data = pd.read_csv('fakedata.csv', index_col=0)"
   ]
  },
  {
   "cell_type": "code",
   "execution_count": 13,
   "metadata": {},
   "outputs": [
    {
     "data": {
      "text/html": [
       "<div>\n",
       "<style scoped>\n",
       "    .dataframe tbody tr th:only-of-type {\n",
       "        vertical-align: middle;\n",
       "    }\n",
       "\n",
       "    .dataframe tbody tr th {\n",
       "        vertical-align: top;\n",
       "    }\n",
       "\n",
       "    .dataframe thead th {\n",
       "        text-align: right;\n",
       "    }\n",
       "</style>\n",
       "<table border=\"1\" class=\"dataframe\">\n",
       "  <thead>\n",
       "    <tr style=\"text-align: right;\">\n",
       "      <th></th>\n",
       "      <th>Project Name</th>\n",
       "      <th>Address</th>\n",
       "      <th>City</th>\n",
       "      <th>LatLong</th>\n",
       "      <th>Next Meeting</th>\n",
       "      <th>Project Overview</th>\n",
       "      <th>Links</th>\n",
       "      <th>Score</th>\n",
       "    </tr>\n",
       "  </thead>\n",
       "  <tbody>\n",
       "    <tr>\n",
       "      <th>1</th>\n",
       "      <td>Abra</td>\n",
       "      <td>1234 Fake Street</td>\n",
       "      <td>San Jose</td>\n",
       "      <td>[37.348802, -121.817090]</td>\n",
       "      <td>06/02/19</td>\n",
       "      <td>Reiciendis sed officiis magni. Velit amet non ...</td>\n",
       "      <td>NaN</td>\n",
       "      <td>9.5</td>\n",
       "    </tr>\n",
       "    <tr>\n",
       "      <th>2</th>\n",
       "      <td>Bulbasaur</td>\n",
       "      <td>372C White Street</td>\n",
       "      <td>Santa Clara</td>\n",
       "      <td>[37.347825, -121.942028]</td>\n",
       "      <td>06/03/19</td>\n",
       "      <td>Voluptatem consequatur et perferendis ipsa. Ve...</td>\n",
       "      <td>www.jfalds.org</td>\n",
       "      <td>2.4</td>\n",
       "    </tr>\n",
       "    <tr>\n",
       "      <th>3</th>\n",
       "      <td>Charmander</td>\n",
       "      <td>51 W West Avenue</td>\n",
       "      <td>San Jose</td>\n",
       "      <td>[37.322077, -121.818726]</td>\n",
       "      <td>NaN</td>\n",
       "      <td>Alias in quis laboriosam esse velit iste. Et n...</td>\n",
       "      <td>www.isafd.com</td>\n",
       "      <td>7.4</td>\n",
       "    </tr>\n",
       "    <tr>\n",
       "      <th>4</th>\n",
       "      <td>Dragonair</td>\n",
       "      <td>9531 Myrtle Street</td>\n",
       "      <td>San Jose</td>\n",
       "      <td>[37.312140, -121.828403]</td>\n",
       "      <td>NaN</td>\n",
       "      <td>Qui excepturi aut similique expedita. Libero d...</td>\n",
       "      <td>www.ufeoia.org</td>\n",
       "      <td>9.8</td>\n",
       "    </tr>\n",
       "    <tr>\n",
       "      <th>5</th>\n",
       "      <td>Eevee</td>\n",
       "      <td>93 Briarwood Street</td>\n",
       "      <td>Santa Clara</td>\n",
       "      <td>[37.343011, -121.921368]</td>\n",
       "      <td>06/28/19</td>\n",
       "      <td>Qui rerum qui atque omnis soluta repudiandae n...</td>\n",
       "      <td>NaN</td>\n",
       "      <td>6.5</td>\n",
       "    </tr>\n",
       "    <tr>\n",
       "      <th>6</th>\n",
       "      <td>Fearow</td>\n",
       "      <td>29 Wintergreen Court</td>\n",
       "      <td>San Jose</td>\n",
       "      <td>[37.360850, -121.925117]</td>\n",
       "      <td>07/27/19</td>\n",
       "      <td>Libero impedit aut voluptatem magni quis exerc...</td>\n",
       "      <td>NaN</td>\n",
       "      <td>3.4</td>\n",
       "    </tr>\n",
       "    <tr>\n",
       "      <th>7</th>\n",
       "      <td>Growlithe</td>\n",
       "      <td>392 E. Eastingdale Road</td>\n",
       "      <td>San Jose</td>\n",
       "      <td>[37.297469, -121.869124]</td>\n",
       "      <td>NaN</td>\n",
       "      <td>Eum placeat error sed a. Non eius aspernatur d...</td>\n",
       "      <td>www.ugreaifs.com</td>\n",
       "      <td>4.6</td>\n",
       "    </tr>\n",
       "    <tr>\n",
       "      <th>8</th>\n",
       "      <td>Houndoom</td>\n",
       "      <td>462 Highting Court</td>\n",
       "      <td>San Jose</td>\n",
       "      <td>[37.306700, -121.883838]</td>\n",
       "      <td>01/15/20</td>\n",
       "      <td>Sed sit id dolore sequi distinctio at explicab...</td>\n",
       "      <td>www.foisk.org</td>\n",
       "      <td>7.3</td>\n",
       "    </tr>\n",
       "    <tr>\n",
       "      <th>9</th>\n",
       "      <td>Ivysaur</td>\n",
       "      <td>938 Jump Street</td>\n",
       "      <td>Santa Clara</td>\n",
       "      <td>[37.326633, -121.936609]</td>\n",
       "      <td>06/30/19</td>\n",
       "      <td>Incidunt quod eaque amet sed. Dolorem cumque v...</td>\n",
       "      <td>NaN</td>\n",
       "      <td>3.3</td>\n",
       "    </tr>\n",
       "    <tr>\n",
       "      <th>10</th>\n",
       "      <td>Jolteon</td>\n",
       "      <td>412 Court Drive</td>\n",
       "      <td>Santa Clara</td>\n",
       "      <td>[37.365854, -122.017793]</td>\n",
       "      <td>08/14/19</td>\n",
       "      <td>Ut quis maiores quidem rem. Qui incidunt volup...</td>\n",
       "      <td>NaN</td>\n",
       "      <td>8.2</td>\n",
       "    </tr>\n",
       "  </tbody>\n",
       "</table>\n",
       "</div>"
      ],
      "text/plain": [
       "   Project Name                  Address         City  \\\n",
       "1          Abra         1234 Fake Street     San Jose   \n",
       "2     Bulbasaur        372C White Street  Santa Clara   \n",
       "3    Charmander         51 W West Avenue     San Jose   \n",
       "4     Dragonair       9531 Myrtle Street     San Jose   \n",
       "5         Eevee      93 Briarwood Street  Santa Clara   \n",
       "6        Fearow     29 Wintergreen Court     San Jose   \n",
       "7     Growlithe  392 E. Eastingdale Road     San Jose   \n",
       "8      Houndoom       462 Highting Court     San Jose   \n",
       "9       Ivysaur          938 Jump Street  Santa Clara   \n",
       "10      Jolteon          412 Court Drive  Santa Clara   \n",
       "\n",
       "                     LatLong Next Meeting  \\\n",
       "1   [37.348802, -121.817090]     06/02/19   \n",
       "2   [37.347825, -121.942028]     06/03/19   \n",
       "3   [37.322077, -121.818726]          NaN   \n",
       "4   [37.312140, -121.828403]          NaN   \n",
       "5   [37.343011, -121.921368]     06/28/19   \n",
       "6   [37.360850, -121.925117]     07/27/19   \n",
       "7   [37.297469, -121.869124]          NaN   \n",
       "8   [37.306700, -121.883838]     01/15/20   \n",
       "9   [37.326633, -121.936609]     06/30/19   \n",
       "10  [37.365854, -122.017793]     08/14/19   \n",
       "\n",
       "                                     Project Overview             Links  Score  \n",
       "1   Reiciendis sed officiis magni. Velit amet non ...               NaN    9.5  \n",
       "2   Voluptatem consequatur et perferendis ipsa. Ve...    www.jfalds.org    2.4  \n",
       "3   Alias in quis laboriosam esse velit iste. Et n...     www.isafd.com    7.4  \n",
       "4   Qui excepturi aut similique expedita. Libero d...    www.ufeoia.org    9.8  \n",
       "5   Qui rerum qui atque omnis soluta repudiandae n...               NaN    6.5  \n",
       "6   Libero impedit aut voluptatem magni quis exerc...               NaN    3.4  \n",
       "7   Eum placeat error sed a. Non eius aspernatur d...  www.ugreaifs.com    4.6  \n",
       "8   Sed sit id dolore sequi distinctio at explicab...     www.foisk.org    7.3  \n",
       "9   Incidunt quod eaque amet sed. Dolorem cumque v...               NaN    3.3  \n",
       "10  Ut quis maiores quidem rem. Qui incidunt volup...               NaN    8.2  "
      ]
     },
     "execution_count": 13,
     "metadata": {},
     "output_type": "execute_result"
    }
   ],
   "source": [
    "data"
   ]
  },
  {
   "cell_type": "code",
   "execution_count": 14,
   "metadata": {},
   "outputs": [],
   "source": [
    "# Rename dataframe columns\n",
    "data.columns = ['project_name', 'address', 'city', 'latlong', 'next_meeting', \n",
    "                'project_overview', 'links', 'score']"
   ]
  },
  {
   "cell_type": "code",
   "execution_count": 15,
   "metadata": {},
   "outputs": [],
   "source": [
    "# Create engine to SQLite database file\n",
    "engine = create_engine('sqlite:///projects.sqlite')"
   ]
  },
  {
   "cell_type": "code",
   "execution_count": 16,
   "metadata": {},
   "outputs": [],
   "source": [
    "# Create a connection to the engine called 'conn'\n",
    "conn = engine.connect()"
   ]
  },
  {
   "cell_type": "code",
   "execution_count": 17,
   "metadata": {},
   "outputs": [],
   "source": [
    "# Use `declarative_base` from SQLAlchemy to model the table as an ORM class\n",
    "Base = declarative_base()\n",
    "\n",
    "class Projects(Base):\n",
    "    __tablename__ = 'projects'\n",
    "    \n",
    "    id = Column(Integer, primary_key=True)\n",
    "    project_name = Column(String)\n",
    "    address = Column(String)\n",
    "    city = Column(String)\n",
    "    latlong = Column(String)\n",
    "    next_meeting = Column(String)\n",
    "    project_overview = Column(String)\n",
    "    links = Column(String)\n",
    "    score = Column(Integer)\n",
    "    \n",
    "    def __repr__(self):\n",
    "        return '<Projects %r>' % (self.name)"
   ]
  },
  {
   "cell_type": "code",
   "execution_count": 18,
   "metadata": {},
   "outputs": [],
   "source": [
    "# Use `create_all` to create the table in the database\n",
    "Base.metadata.create_all(engine)"
   ]
  },
  {
   "cell_type": "code",
   "execution_count": 19,
   "metadata": {},
   "outputs": [],
   "source": [
    "# Use MetaData from SQLAlchemy to reflect the tables\n",
    "metadata = MetaData(bind=engine)\n",
    "metadata.reflect()"
   ]
  },
  {
   "cell_type": "code",
   "execution_count": 20,
   "metadata": {},
   "outputs": [],
   "source": [
    "# Save the reference to the 'projects' table\n",
    "project_table = sqlalchemy.Table('projects', metadata, autoload=True)"
   ]
  },
  {
   "cell_type": "code",
   "execution_count": 21,
   "metadata": {},
   "outputs": [
    {
     "data": {
      "text/plain": [
       "<sqlalchemy.engine.result.ResultProxy at 0x7f5674b9e400>"
      ]
     },
     "execution_count": 21,
     "metadata": {},
     "output_type": "execute_result"
    }
   ],
   "source": [
    "conn.execute(project_table.delete())"
   ]
  },
  {
   "cell_type": "code",
   "execution_count": 22,
   "metadata": {},
   "outputs": [],
   "source": [
    "data = data.to_dict(orient = 'records')"
   ]
  },
  {
   "cell_type": "code",
   "execution_count": 23,
   "metadata": {},
   "outputs": [
    {
     "data": {
      "text/plain": [
       "<sqlalchemy.engine.result.ResultProxy at 0x7f5674b9a780>"
      ]
     },
     "execution_count": 23,
     "metadata": {},
     "output_type": "execute_result"
    }
   ],
   "source": [
    "conn.execute(project_table.insert(), data)"
   ]
  },
  {
   "cell_type": "code",
   "execution_count": 24,
   "metadata": {},
   "outputs": [
    {
     "data": {
      "text/plain": [
       "[(1, 'Abra', '1234 Fake Street', 'San Jose', '[37.348802, -121.817090]', '06/02/19', 'Reiciendis sed officiis magni. Velit amet non sed autem molestiae. Et aspernatur non reiciendis quia qui. Velit sed et voluptatem harum asperiores.', None, 9.5),\n",
       " (2, 'Bulbasaur', '372C White Street', 'Santa Clara', '[37.347825, -121.942028]', '06/03/19', 'Voluptatem consequatur et perferendis ipsa. Vel ut aut dicta quod est. Porro qui asperiores et cumque qui. Ab veniam officiis amet dolorum.', 'www.jfalds.org', 2.4),\n",
       " (3, 'Charmander', '51 W West Avenue', 'San Jose', '[37.322077, -121.818726]', None, 'Alias in quis laboriosam esse velit iste. Et necessitatibus quia sit voluptatem quaerat assumenda dolorum. Ipsum natus praesentium vel et quibusdam iste qui. Eum sequi unde et.', 'www.isafd.com', 7.4),\n",
       " (4, 'Dragonair', '9531 Myrtle Street', 'San Jose', '[37.312140, -121.828403]', None, 'Qui excepturi aut similique expedita. Libero distinctio et dignissimos fugit qui. Sequi maiores quas a earum quae nemo voluptatibus rem. Maiores cumque neque molestiae provident ut ut laborum. Voluptatem officia ipsam in. Aliquam quisquam voluptatem rerum veniam non earum ea et.', 'www.ufeoia.org', 9.8),\n",
       " (5, 'Eevee', '93 Briarwood Street', 'Santa Clara', '[37.343011, -121.921368]', '06/28/19', 'Qui rerum qui atque omnis soluta repudiandae numquam. Eos doloribus non quibusdam. Illum molestias illo perspiciatis eveniet aliquid qui nisi similique. Omnis impedit odio iusto voluptates. Eligendi aut expedita beatae et error.', None, 6.5)]"
      ]
     },
     "execution_count": 24,
     "metadata": {},
     "output_type": "execute_result"
    }
   ],
   "source": [
    "# Test that the insert works by fetching the first 5 rows\n",
    "conn.execute('select * from projects limit 5').fetchall()"
   ]
  },
  {
   "cell_type": "code",
   "execution_count": 25,
   "metadata": {},
   "outputs": [
    {
     "name": "stdout",
     "output_type": "stream",
     "text": [
      "10\n"
     ]
    }
   ],
   "source": [
    "# Pull the data and the column information from the database\n",
    "query = conn.execute('select * from projects')\n",
    "db_data = query.fetchall()\n",
    "db_cols = query.keys()\n",
    "print(len(db_data))"
   ]
  },
  {
   "cell_type": "code",
   "execution_count": 27,
   "metadata": {},
   "outputs": [],
   "source": [
    "# Format the rows into the geojson definition\n",
    "import json\n",
    "\n",
    "def row_to_feature(colnames, row):\n",
    "    geo = {\"type\": \"Point\"}\n",
    "    geo[\"coordinates\"] = json.loads(row[4])\n",
    "    props = {}\n",
    "    for i in range(len(colnames)):\n",
    "        if colnames[i] != \"latlong\":\n",
    "            props[colnames[i]] = row[i]\n",
    "    return {\"type\": \"Feature\", \"geometry\":geo, \"properties\":props}\n",
    "\n",
    "data_points = []\n",
    "for i in range(len(db_data)):\n",
    "        data_points.append(row_to_feature(db_cols, db_data[i]))\n",
    "data_dict = {\"types\": \"FeatureCollection\", \"features\": data_points}"
   ]
  },
  {
   "cell_type": "code",
   "execution_count": 28,
   "metadata": {},
   "outputs": [],
   "source": [
    "# Write the geojson file\n",
    "with open('exdata.json', 'w') as f:\n",
    "    json.dump(data_dict, f, indent=\"\\t\")"
   ]
  },
  {
   "cell_type": "code",
   "execution_count": null,
   "metadata": {},
   "outputs": [],
   "source": []
  }
 ],
 "metadata": {
  "kernelspec": {
   "display_name": "Python 3",
   "language": "python",
   "name": "python3"
  },
  "language_info": {
   "codemirror_mode": {
    "name": "ipython",
    "version": 3
   },
   "file_extension": ".py",
   "mimetype": "text/x-python",
   "name": "python",
   "nbconvert_exporter": "python",
   "pygments_lexer": "ipython3",
   "version": "3.5.2"
  }
 },
 "nbformat": 4,
 "nbformat_minor": 2
}
