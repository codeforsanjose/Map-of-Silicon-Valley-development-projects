{
 "cells": [
  {
   "cell_type": "code",
   "execution_count": 1,
   "metadata": {
    "collapsed": true,
    "scrolled": true
   },
   "outputs": [],
   "source": [
    "# Dependencies\n",
    "import pandas as pd\n",
    "import requests\n",
    "from mapbox import Geocoder\n",
    "\n",
    "# Add in own personal MapBox API key (keep confidential)\n",
    "mkey = ''\n",
    "\n",
    "# Read Catalyze SV projects csv/excel sheet\n",
    "data = pd.read_csv('')"
   ]
  },
  {
   "cell_type": "code",
   "execution_count": 2,
   "metadata": {
    "collapsed": true
   },
   "outputs": [],
   "source": [
    "# Access Mapbox dataset\n",
    "perm_geocoder = Geocoder(name='mapbox.places-permenant')\n",
    "geocoder = Geocoder(access_token=mkey)"
   ]
  },
  {
   "cell_type": "code",
   "execution_count": 3,
   "metadata": {
    "collapsed": true
   },
   "outputs": [],
   "source": [
    "# Set up addresses into a list\n",
    "addresses = (data['Address'] + ', ' + data['City'] + ', ' + 'CA').tolist()"
   ]
  },
  {
   "cell_type": "code",
   "execution_count": null,
   "metadata": {
    "collapsed": true
   },
   "outputs": [],
   "source": [
    "# Create empty list for coordinates\n",
    "coord = []\n",
    "\n",
    "# Loop through addresses to get latlong\n",
    "for a in addresses:\n",
    "    response = geocoder.forward(a)\n",
    "    collection = response.geojson()\n",
    "    coord.append(collection['features'][0]['geometry']['coordinates'])\n",
    "    \n",
    "coord"
   ]
  },
  {
   "cell_type": "code",
   "execution_count": 8,
   "metadata": {
    "collapsed": true
   },
   "outputs": [],
   "source": [
    "# Add coordinates into dataframe\n",
    "data['latlong'] = coord"
   ]
  },
  {
   "cell_type": "code",
   "execution_count": 10,
   "metadata": {
    "collapsed": true
   },
   "outputs": [],
   "source": [
    "# Save into csv file\n",
    "data.to_csv('projects.csv')"
   ]
  }
 ],
 "metadata": {
  "kernelspec": {
   "display_name": "Python [default]",
   "language": "python",
   "name": "python3"
  },
  "language_info": {
   "codemirror_mode": {
    "name": "ipython",
    "version": 3
   },
   "file_extension": ".py",
   "mimetype": "text/x-python",
   "name": "python",
   "nbconvert_exporter": "python",
   "pygments_lexer": "ipython3",
   "version": "3.6.3"
  }
 },
 "nbformat": 4,
 "nbformat_minor": 2
}
